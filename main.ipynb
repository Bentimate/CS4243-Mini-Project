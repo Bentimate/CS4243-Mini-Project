{
 "cells": [
  {
   "cell_type": "markdown",
   "metadata": {},
   "source": [
    "## Data Preprocessing"
   ]
  },
  {
   "cell_type": "code",
   "execution_count": 49,
   "metadata": {},
   "outputs": [],
   "source": [
    "import cv2\n",
    "import os\n",
    "import numpy as np\n",
    "import matplotlib.pyplot as plt\n",
    "from collections import Counter\n",
    "\n",
    "IMG_SIZE = (64, 64)\n",
    "\n",
    "def show(img):\n",
    "    plt.imshow(img)\n",
    "    plt.show()\n",
    "\n",
    "def remove_lines(img):\n",
    "    lower_black = np.array([0, 0, 0])\n",
    "    upper_black = np.array([50, 50, 50])  # Adjust as needed based on line intensity\n",
    "    mask = cv2.inRange(img, lower_black, upper_black)\n",
    "    gray = cv2.cvtColor(img,cv2.COLOR_BGR2GRAY)\n",
    "    img_inpainted = cv2.inpaint(gray, mask, inpaintRadius=3, flags=cv2.INPAINT_TELEA)\n",
    "    return img_inpainted\n",
    "\n",
    "def crop(img):\n",
    "    _, thresh = cv2.threshold(img, 240, 255, cv2.THRESH_BINARY_INV) \n",
    "    coords = cv2.findNonZero(thresh)\n",
    "    x, y, w, h = cv2.boundingRect(coords)\n",
    "    cropped_image = img[y:y+h, x:x+w]\n",
    "    return cropped_image\n",
    "\n",
    "def segment_save(img, filename, destination_path):\n",
    "    captcha_contents = filename.split('-')[0]\n",
    "    chars = list(captcha_contents)\n",
    "    for char in chars:\n",
    "        class_path = os.path.join(destination_path, char)\n",
    "        if not os.path.exists(class_path):\n",
    "            os.makedirs(class_path)\n",
    "    height, width = img.shape\n",
    "    num_portions = len(chars)\n",
    "    portion_width = width // num_portions\n",
    "\n",
    "    for i in range(num_portions):\n",
    "        # Segment\n",
    "        x_start = i * portion_width\n",
    "        x_end = x_start + portion_width\n",
    "        portion = img[:, x_start:x_end]\n",
    "\n",
    "        # Resize (keras will do it for us apparently)\n",
    "        portion = cv2.resize(portion, IMG_SIZE, interpolation=cv2.INTER_AREA)\n",
    "\n",
    "        # Threshold the image to make sure everything is black and white\n",
    "        _, portion = cv2.threshold(portion, 240, 255, cv2.THRESH_BINARY_INV)\n",
    "\n",
    "        # Save\n",
    "        char_filename = f\"{chars[i]}/{chars[i]}_0.png\"\n",
    "        char_filepath = os.path.join(destination_path, char_filename)\n",
    "        counter = 0\n",
    "        while os.path.exists(char_filepath):\n",
    "            char_filename = f\"{chars[i]}/{chars[i]}_{counter}.png\"\n",
    "            char_filepath = os.path.join(destination_path, char_filename)\n",
    "            counter += 1\n",
    "        cv2.imwrite(char_filepath, portion)\n",
    "\n",
    "def print_char_stats(chars_path):\n",
    "    classes = os.listdir(chars_path)\n",
    "\n",
    "    # Initialize a counter to track the occurrences of each character\n",
    "    character_counter = Counter()\n",
    "\n",
    "    # Loop through each file in the folder\n",
    "    for folder in classes:\n",
    "        for char in folder:\n",
    "            # Make sure the file is a valid image (you can adjust the file extension if needed)\n",
    "            if char.endswith('.png'):\n",
    "                # Extract the character label from the filename (assuming filename format like 'a_1.png')\n",
    "                character_label = char.split('_')[0]  # Adjust based on your filename format\n",
    "\n",
    "                # Update the counter with the extracted character label\n",
    "                character_counter[character_label] += 1\n",
    "\n",
    "    # Total number of characters (images)\n",
    "    total_characters = sum(character_counter.values())\n",
    "\n",
    "    # Number of unique classes (characters)\n",
    "    num_classes = len(classes)\n",
    "\n",
    "    # Print statistics\n",
    "    print(f\"Total number of characters: {total_characters}\")\n",
    "    print(f\"Number of unique classes (characters): {num_classes}\")\n",
    "    print(\"\\nCharacter distribution:\")\n",
    "    for character, count in character_counter.items():\n",
    "        print(f\"Character '{character}': {count} instances\")\n",
    "    \n",
    "    return num_classes"
   ]
  },
  {
   "cell_type": "code",
   "execution_count": 50,
   "metadata": {},
   "outputs": [],
   "source": [
    "folder_path = \"./dataset/\" #change this to your dataset folder\n",
    "main_path = folder_path + \"main/\"\n",
    "train_path = folder_path + \"train/\"\n",
    "test_path = folder_path + \"test/\"\n",
    "train_chars_path = folder_path + \"train_chars/\"\n",
    "test_chars_path = folder_path + \"test_chars/\""
   ]
  },
  {
   "cell_type": "code",
   "execution_count": null,
   "metadata": {},
   "outputs": [],
   "source": [
    "# Segment captchas in training data and save to folder\n",
    "if not os.path.exists(train_chars_path):\n",
    "    os.makedirs(train_chars_path)\n",
    "\n",
    "data_files = os.listdir(train_path)\n",
    "    \n",
    "for filename in data_files:\n",
    "    img = cv2.imread(os.path.join(train_path, filename))\n",
    "    img = remove_lines(img)\n",
    "    img = crop(img)\n",
    "    segment_save(img, filename, train_chars_path)\n",
    "\n",
    "# Print Stats\n",
    "num_classes = print_char_stats(train_chars_path)\n",
    "\n",
    "# Segment captchas in test data and save to folder\n",
    "if not os.path.exists(test_chars_path):\n",
    "    os.makedirs(test_chars_path)\n",
    "\n",
    "data_files = os.listdir(test_path)\n",
    "    \n",
    "for filename in data_files:\n",
    "    img = cv2.imread(os.path.join(test_path, filename))\n",
    "    img = remove_lines(img)\n",
    "    img = crop(img)\n",
    "    segment_save(img, filename, test_chars_path)\n"
   ]
  },
  {
   "cell_type": "markdown",
   "metadata": {},
   "source": [
    "## Augmenting Dataset"
   ]
  },
  {
   "cell_type": "markdown",
   "metadata": {},
   "source": [
    "## Model"
   ]
  },
  {
   "cell_type": "markdown",
   "metadata": {},
   "source": [
    "#### Initialise Model"
   ]
  },
  {
   "cell_type": "code",
   "execution_count": 52,
   "metadata": {},
   "outputs": [],
   "source": [
    "import tensorflow as tf\n",
    "from tensorflow.keras.models import Sequential\n",
    "from tensorflow.keras.layers import Conv2D, MaxPooling2D, Flatten, Dense, Dropout, BatchNormalization\n",
    "from tensorflow.keras.callbacks import EarlyStopping"
   ]
  },
  {
   "cell_type": "code",
   "execution_count": 53,
   "metadata": {},
   "outputs": [
    {
     "name": "stdout",
     "output_type": "stream",
     "text": [
      "Found 48007 images belonging to 36 classes.\n",
      "Found 12010 images belonging to 36 classes.\n"
     ]
    }
   ],
   "source": [
    "# Init data\n",
    "train_data = tf.keras.preprocessing.image.ImageDataGenerator(\n",
    "    rescale=1./255)\n",
    "test_data = tf.keras.preprocessing.image.ImageDataGenerator(\n",
    "    rescale=1./255)\n",
    "\n",
    "batch_size = 32\n",
    "\n",
    "train_generator = train_data.flow_from_directory(\n",
    "    train_chars_path,\n",
    "    target_size=IMG_SIZE,\n",
    "    batch_size=batch_size,\n",
    "    color_mode='grayscale',\n",
    "    class_mode='categorical'\n",
    ")\n",
    "\n",
    "test_generator = test_data.flow_from_directory(\n",
    "    test_chars_path,\n",
    "    target_size=IMG_SIZE,\n",
    "    batch_size=batch_size,\n",
    "    color_mode='grayscale',\n",
    "    class_mode='categorical'\n",
    ")"
   ]
  },
  {
   "cell_type": "code",
   "execution_count": 54,
   "metadata": {},
   "outputs": [],
   "source": [
    "# Bare bones version\n",
    "num_classes = 36\n",
    "input_shape = (64, 64, 1)\n",
    "model = Sequential([\n",
    "    \n",
    "    Conv2D(32, (3, 3), activation='relu', input_shape=(64, 64, 1)),\n",
    "    BatchNormalization(),\n",
    "    MaxPooling2D(pool_size=(2, 2)),\n",
    "    Dropout(0.25),\n",
    "    \n",
    "    # 2nd Convolutional Block\n",
    "    Conv2D(64, (3, 3), activation='relu'),\n",
    "    BatchNormalization(),\n",
    "    MaxPooling2D(pool_size=(2, 2)),\n",
    "    Dropout(0.25),\n",
    "    \n",
    "    # 3rd Convolutional Block\n",
    "    Conv2D(128, (3, 3), activation='relu'),\n",
    "    BatchNormalization(),\n",
    "    MaxPooling2D(pool_size=(2, 2)),\n",
    "    Dropout(0.25),\n",
    "\n",
    "    Conv2D(128, (1, 1), activation='relu'),\n",
    "    BatchNormalization(),\n",
    "    MaxPooling2D(pool_size=(2, 2)),\n",
    "    Dropout(0.25),\n",
    "    \n",
    "    # Fully Connected Block\n",
    "    Flatten(),\n",
    "\n",
    "    Dense(512, activation='relu'),\n",
    "    BatchNormalization(),\n",
    "    Dropout(0.5),\n",
    "\n",
    "    Dense(128, activation='relu'),\n",
    "    BatchNormalization(),\n",
    "    Dropout(0.5),\n",
    "    \n",
    "    Dense(num_classes, activation='softmax')\n",
    "])\n",
    "\n",
    "optimizer = tf.keras.optimizers.Adam(learning_rate=0.002)\n",
    "\n",
    "model.compile(\n",
    "    optimizer=optimizer, \n",
    "    loss='categorical_crossentropy', \n",
    "    metrics=['accuracy']\n",
    ")\n",
    "\n",
    "early_stopping = EarlyStopping(monitor='val_accuracy', patience=5, restore_best_weights=True)"
   ]
  },
  {
   "cell_type": "markdown",
   "metadata": {},
   "source": [
    "#### Training Model"
   ]
  },
  {
   "cell_type": "code",
   "execution_count": null,
   "metadata": {},
   "outputs": [
    {
     "name": "stdout",
     "output_type": "stream",
     "text": [
      "Epoch 1/100\n",
      "1501/1501 [==============================] - 93s 61ms/step - loss: 2.9539 - accuracy: 0.2099 - val_loss: 1.9171 - val_accuracy: 0.4713\n",
      "Epoch 2/100\n",
      "1501/1501 [==============================] - 87s 58ms/step - loss: 2.0154 - accuracy: 0.4261 - val_loss: 1.6769 - val_accuracy: 0.5580\n",
      "Epoch 3/100\n",
      "1501/1501 [==============================] - 87s 58ms/step - loss: 1.7964 - accuracy: 0.4869 - val_loss: 1.3673 - val_accuracy: 0.6093\n",
      "Epoch 4/100\n",
      "1501/1501 [==============================] - 88s 59ms/step - loss: 1.6795 - accuracy: 0.5209 - val_loss: 1.2658 - val_accuracy: 0.6326\n",
      "Epoch 5/100\n",
      "1501/1501 [==============================] - 86s 57ms/step - loss: 1.5891 - accuracy: 0.5477 - val_loss: 1.2292 - val_accuracy: 0.6444\n",
      "Epoch 6/100\n",
      "1501/1501 [==============================] - 87s 58ms/step - loss: 1.5351 - accuracy: 0.5595 - val_loss: 1.1325 - val_accuracy: 0.6729\n",
      "Epoch 7/100\n",
      "1501/1501 [==============================] - 85s 56ms/step - loss: 1.4871 - accuracy: 0.5756 - val_loss: 1.1356 - val_accuracy: 0.6767\n",
      "Epoch 8/100\n",
      "1501/1501 [==============================] - 86s 58ms/step - loss: 1.4521 - accuracy: 0.5875 - val_loss: 1.1216 - val_accuracy: 0.6719\n",
      "Epoch 9/100\n",
      "1501/1501 [==============================] - 85s 56ms/step - loss: 1.4067 - accuracy: 0.5986 - val_loss: 1.0805 - val_accuracy: 0.6901\n",
      "Epoch 10/100\n",
      "1501/1501 [==============================] - 88s 59ms/step - loss: 1.3777 - accuracy: 0.6073 - val_loss: 1.0595 - val_accuracy: 0.6909\n",
      "Epoch 11/100\n",
      "1501/1501 [==============================] - 91s 61ms/step - loss: 1.3541 - accuracy: 0.6114 - val_loss: 1.0801 - val_accuracy: 0.6811\n",
      "Epoch 12/100\n",
      "1501/1501 [==============================] - 100s 67ms/step - loss: 1.3289 - accuracy: 0.6169 - val_loss: 1.0406 - val_accuracy: 0.6918\n",
      "Epoch 13/100\n",
      "1501/1501 [==============================] - 102s 68ms/step - loss: 1.3149 - accuracy: 0.6237 - val_loss: 1.0250 - val_accuracy: 0.7014\n",
      "Epoch 14/100\n",
      "1501/1501 [==============================] - 113s 76ms/step - loss: 1.2912 - accuracy: 0.6312 - val_loss: 1.0071 - val_accuracy: 0.7051\n",
      "Epoch 15/100\n",
      "1501/1501 [==============================] - 120s 80ms/step - loss: 1.2779 - accuracy: 0.6338 - val_loss: 0.9983 - val_accuracy: 0.7077\n",
      "Epoch 16/100\n",
      "1501/1501 [==============================] - 122s 81ms/step - loss: 1.2695 - accuracy: 0.6346 - val_loss: 1.0030 - val_accuracy: 0.7083\n",
      "Epoch 17/100\n",
      "1501/1501 [==============================] - 106s 71ms/step - loss: 1.2423 - accuracy: 0.6433 - val_loss: 0.9685 - val_accuracy: 0.7182\n",
      "Epoch 18/100\n",
      "1501/1501 [==============================] - 119s 79ms/step - loss: 1.2349 - accuracy: 0.6459 - val_loss: 0.9839 - val_accuracy: 0.7087\n",
      "Epoch 19/100\n",
      "1501/1501 [==============================] - 108s 72ms/step - loss: 1.2264 - accuracy: 0.6483 - val_loss: 0.9955 - val_accuracy: 0.7101\n",
      "Epoch 20/100\n",
      "1501/1501 [==============================] - 108s 72ms/step - loss: 1.2142 - accuracy: 0.6519 - val_loss: 0.9813 - val_accuracy: 0.7123\n",
      "Epoch 21/100\n",
      "1501/1501 [==============================] - 122s 81ms/step - loss: 1.2072 - accuracy: 0.6546 - val_loss: 0.9548 - val_accuracy: 0.7222\n",
      "Epoch 22/100\n",
      "1501/1501 [==============================] - 103s 69ms/step - loss: 1.2002 - accuracy: 0.6550 - val_loss: 0.9514 - val_accuracy: 0.7241\n",
      "Epoch 23/100\n",
      "1501/1501 [==============================] - 127s 85ms/step - loss: 1.1901 - accuracy: 0.6601 - val_loss: 0.9406 - val_accuracy: 0.7252\n",
      "Epoch 24/100\n",
      "1501/1501 [==============================] - 107s 71ms/step - loss: 1.1801 - accuracy: 0.6604 - val_loss: 1.0205 - val_accuracy: 0.7027\n",
      "Epoch 25/100\n",
      "1501/1501 [==============================] - 114s 76ms/step - loss: 1.1734 - accuracy: 0.6641 - val_loss: 0.9480 - val_accuracy: 0.7214\n",
      "Epoch 26/100\n",
      "1501/1501 [==============================] - 129s 86ms/step - loss: 1.1679 - accuracy: 0.6653 - val_loss: 0.9346 - val_accuracy: 0.7280\n",
      "Epoch 27/100\n",
      " 538/1501 [=========>....................] - ETA: 1:11 - loss: 1.1407 - accuracy: 0.6709"
     ]
    }
   ],
   "source": [
    "epochs = 100\n",
    "history = model.fit(\n",
    "    train_generator, \n",
    "    epochs=epochs, \n",
    "    validation_data=test_generator,\n",
    "    callbacks=early_stopping\n",
    ")\n",
    "model.save('captcha-model.keras')"
   ]
  },
  {
   "cell_type": "markdown",
   "metadata": {},
   "source": [
    "#### Evaluation"
   ]
  },
  {
   "cell_type": "code",
   "execution_count": null,
   "metadata": {},
   "outputs": [
    {
     "name": "stdout",
     "output_type": "stream",
     "text": [
      "376/376 [==============================] - 5s 14ms/step - loss: 0.8694 - accuracy: 0.7485\n",
      "Test Accuracy: 74.85%\n"
     ]
    }
   ],
   "source": [
    "test_loss, test_accuracy = model.evaluate(test_generator)\n",
    "print(f\"Test Accuracy: {test_accuracy * 100:.2f}%\")\n",
    "\n",
    "# Add more eval metrics here: captcha accuracy"
   ]
  },
  {
   "cell_type": "code",
   "execution_count": null,
   "metadata": {},
   "outputs": [
    {
     "data": {
      "image/png": "[encoded data removed]",
      "text/plain": [
       "<Figure size 640x480 with 1 Axes>"
      ]
     },
     "metadata": {},
     "output_type": "display_data"
    },
    {
     "data": {
      "image/png": "[encoded data removed]",
      "text/plain": [
       "<Figure size 640x480 with 1 Axes>"
      ]
     },
     "metadata": {},
     "output_type": "display_data"
    }
   ],
   "source": [
    "import matplotlib.pyplot as plt\n",
    "\n",
    "# Plot training & validation accuracy\n",
    "plt.plot(history.history['accuracy'], label='Train Accuracy')\n",
    "plt.plot(history.history['val_accuracy'], label='Validation Accuracy')\n",
    "plt.xlabel('Epoch')\n",
    "plt.ylabel('Accuracy')\n",
    "plt.legend()\n",
    "plt.title('Model Accuracy')\n",
    "plt.show()\n",
    "\n",
    "# Plot training & validation loss\n",
    "plt.plot(history.history['loss'], label='Train Loss')\n",
    "plt.plot(history.history['val_loss'], label='Validation Loss')\n",
    "plt.xlabel('Epoch')\n",
    "plt.ylabel('Loss')\n",
    "plt.legend()\n",
    "plt.title('Model Loss')\n",
    "plt.show()"
   ]
  }
 ],
 "metadata": {
  "kernelspec": {
   "display_name": "cs4243",
   "language": "python",
   "name": "python3"
  },
  "language_info": {
   "codemirror_mode": {
    "name": "ipython",
    "version": 3
   },
   "file_extension": ".py",
   "mimetype": "text/x-python",
   "name": "python",
   "nbconvert_exporter": "python",
   "pygments_lexer": "ipython3",
   "version": "3.9.18"
  }
 },
 "nbformat": 4,
 "nbformat_minor": 2
}
