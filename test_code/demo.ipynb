{
 "cells": [
  {
   "cell_type": "code",
   "execution_count": 7,
   "metadata": {},
   "outputs": [
    {
     "data": {
      "image/png": "[encoded data removed]",
      "text/plain": [
       "<Figure size 640x480 with 1 Axes>"
      ]
     },
     "metadata": {},
     "output_type": "display_data"
    }
   ],
   "source": [
    "import cv2\n",
    "import os\n",
    "import numpy as np\n",
    "import matplotlib.pyplot as plt\n",
    "\n",
    "def show(img):\n",
    "    img = cv2.cvtColor(img, cv2.COLOR_BGR2RGB)\n",
    "    plt.imshow(img)\n",
    "    plt.show()\n",
    "    \n",
    "training_pth = \"./train\"\n",
    "testing_pth = \"./test\"\n",
    "\n",
    "sample_pth = \"./train/00hgi3n7-0.png\"\n",
    "hard_pth = \"./train/n2ujhk0b-0.png\"\n",
    "\n",
    "img = cv2.imread(hard_pth)\n",
    "#img = cv2.imread(hard_pth)\n",
    "show(img)"
   ]
  },
  {
   "cell_type": "code",
   "execution_count": 58,
   "metadata": {},
   "outputs": [],
   "source": [
    "#IMPAINTING\n",
    "\n",
    "# lower_black = np.array([0, 0, 0])\n",
    "# upper_black = np.array([50, 50, 50])  # Adjust as needed based on line intensity\n",
    "\n",
    "# # Convert the image to a mask where black lines are white (255) and other areas are black (0)\n",
    "# mask = cv2.inRange(img, lower_black, upper_black)\n",
    "\n",
    "# # Step 2: Use inpainting to remove the black lines based on the mask\n",
    "# # cv2.INPAINT_TELEA and cv2.INPAINT_NS are two methods for inpainting\n",
    "# # TELEA is generally faster and works well for small, linear noise like lines\n",
    "# img_inpainted = cv2.inpaint(img, mask, inpaintRadius=3, flags=cv2.INPAINT_TELEA)\n",
    "\n",
    "# # Display results\n",
    "# cv2.imshow(\"Original Image\", img)\n",
    "# cv2.imshow(\"Mask for Black Lines\", mask)\n",
    "# cv2.imshow(\"Inpainted Image\", img_inpainted)\n",
    "# cv2.waitKey(0)\n",
    "# cv2.destroyAllWindows()\n",
    "\n",
    "# img = img_inpainted\n",
    "\n",
    "\n"
   ]
  },
  {
   "cell_type": "code",
   "execution_count": 61,
   "metadata": {},
   "outputs": [],
   "source": [
    "# REMOVE BLACK LINE AND MEDIAN FILTER ON THEM\n",
    "\n",
    "\n",
    "# lower_black = np.array([0, 0, 0])\n",
    "# upper_black = np.array([50, 50, 50])  # Define the range for black pixels\n",
    "# mask = cv2.inRange(img, lower_black, upper_black)\n",
    "\n",
    "# img[mask != 0] = [255, 255, 255]\n",
    "# show(img)\n",
    "\n",
    "# img_filtered = img.copy()\n",
    "# # Apply a median filter to the original image\n",
    "# median_filtered = cv2.medianBlur(img, ksize=3)\n",
    "# # Use the mask to replace the pixels in the filtered image where black pixels were removed\n",
    "# img_filtered[mask != 0] = median_filtered[mask != 0]\n",
    "# # Show the final output\n",
    "# show(img_filtered)"
   ]
  },
  {
   "cell_type": "code",
   "execution_count": 47,
   "metadata": {},
   "outputs": [],
   "source": [
    "\n",
    "lower_black = np.array([0, 0, 0])\n",
    "upper_black = np.array([50, 50, 50])  # Define the range for black pixels\n",
    "mask = cv2.inRange(img, lower_black, upper_black)\n",
    "\n",
    "img[mask != 0] = [255, 255, 255]\n",
    "show(img)\n",
    "\n"
   ]
  },
  {
   "cell_type": "code",
   "execution_count": 48,
   "metadata": {},
   "outputs": [],
   "source": [
    "def fill_sandwiched_pixels(img, mask):\n",
    "    # Create a copy of the image to modify\n",
    "    img_filled = img.copy()\n",
    "\n",
    "    # Get image dimensions\n",
    "    height, width, _ = img.shape\n",
    "\n",
    "    # Iterate through all pixels\n",
    "    for y in range(1, height - 1):  # Start from 1 and go to height-1 to avoid edges\n",
    "        for x in range(1, width - 1):  # Start from 1 and go to width-1 to avoid edges\n",
    "            if mask[y, x] != 0:  # Check if this pixel was originally black\n",
    "                # Initialize variables to hold surrounding pixel values\n",
    "                pixel_above = img[y - 1, x]\n",
    "                pixel_below = img[y + 1, x]\n",
    "                pixel_left = img[y, x - 1]\n",
    "                pixel_right = img[y, x + 1]\n",
    "                pixel_top_left = img[y - 1, x - 1]\n",
    "                pixel_bottom_right = img[y + 1, x + 1]\n",
    "                pixel_top_right = img[y - 1, x + 1]\n",
    "                pixel_bottom_left = img[y + 1, x - 1]\n",
    "\n",
    "                # Check the conditions for each pair of surrounding pixels\n",
    "                # 1. Top and Bottom\n",
    "                if np.all(pixel_above != [255, 255, 255]) and np.all(pixel_below != [255, 255, 255]):\n",
    "                    new_pixel = pixel_above\n",
    "                    img_filled[y, x] = new_pixel\n",
    "                \n",
    "                # 2. Left and Right\n",
    "                elif np.all(pixel_left != [255, 255, 255]) and np.all(pixel_right != [255, 255, 255]):\n",
    "                    new_pixel = pixel_right\n",
    "                    img_filled[y, x] = new_pixel\n",
    "                \n",
    "                # 3. Top-Left and Bottom-Right\n",
    "                elif np.all(pixel_top_left != [255, 255, 255]) and np.all(pixel_bottom_right != [255, 255, 255]):\n",
    "                    new_pixel = pixel_top_left\n",
    "                    img_filled[y, x] = new_pixel\n",
    "                \n",
    "                # 4. Top-Right and Bottom-Left\n",
    "                elif np.all(pixel_top_right != [255, 255, 255]) and np.all(pixel_bottom_left != [255, 255, 255]):\n",
    "                    new_pixel = pixel_bottom_left\n",
    "                    img_filled[y, x] = new_pixel\n",
    "\n",
    "    return img_filled\n",
    "\n",
    "# Apply custom function to fill sandwiched pixels\n",
    "img_filled = fill_sandwiched_pixels(img, mask)\n",
    "\n",
    "# Show the final output\n",
    "show(img_filled)"
   ]
  },
  {
   "cell_type": "code",
   "execution_count": 84,
   "metadata": {},
   "outputs": [],
   "source": [
    "# # Create a copy of the filled image to replace pixels\n",
    "# img_with_median = img_filled.copy()\n",
    "\n",
    "# # Apply median blur to the img_filled image\n",
    "# img_filled_blurred = cv2.medianBlur(img_filled, ksize=5)\n",
    "\n",
    "# # Replace only the original black pixel locations in img_with_median with the blurred pixels\n",
    "# img_with_median[mask != 0] = img_filled_blurred[mask != 0]\n",
    "\n",
    "# # Show the final output\n",
    "# show(img_with_median)"
   ]
  },
  {
   "cell_type": "code",
   "execution_count": 49,
   "metadata": {},
   "outputs": [],
   "source": [
    "gray = cv2.cvtColor(img_filled,cv2.COLOR_BGR2GRAY)\n",
    "show(gray)\n",
    "gray\n",
    "\n",
    "test = np.uint8(np.where(gray!=255,255,0))\n",
    "show(test)\n",
    "\n",
    "\n",
    "output = cv2.connectedComponentsWithStats(test,8, cv2.CV_32S)\n",
    "(numLabels, labels, stats, centroids) = output"
   ]
  },
  {
   "cell_type": "code",
   "execution_count": 36,
   "metadata": {},
   "outputs": [],
   "source": [
    "connected_region_area = []\n",
    "connected_pos=[]\n",
    "for i in range(0, numLabels):\n",
    "\t# if this is the first component then we examine the\n",
    "\t# *background* (typically we would just ignore this\n",
    "\t# component in our loop)\n",
    "\tif i == 0:\n",
    "\t\ttext = \"examining component {}/{} (background)\".format(\n",
    "\t\t\ti + 1, numLabels)\n",
    "\t# otherwise, we are examining an actual connected component\n",
    "\telse:\n",
    "\t\ttext = \"examining component {}/{}\".format( i + 1, numLabels)\n",
    "\t# print a status message update for the current connected\n",
    "\t# component\n",
    "\t# print(\"[INFO] {}\".format(text))\n",
    "\t# extract the connected component statistics and centroid for\n",
    "\t# the current label\n",
    "\tx = stats[i, cv2.CC_STAT_LEFT]\n",
    "\ty = stats[i, cv2.CC_STAT_TOP]\n",
    "\tw = stats[i, cv2.CC_STAT_WIDTH]\n",
    "\th = stats[i, cv2.CC_STAT_HEIGHT]\n",
    "\toutput = img.copy()\n",
    "\tconnected_region_area.append((w*h))\n",
    "\tconnected_pos.append([x,y,w,h])\n",
    "\ttest_out = cv2.rectangle(output, (x, y), (x + w, y + h), (0, 255, 0), 2)\t\n",
    "\tshow(test_out)"
   ]
  },
  {
   "cell_type": "code",
   "execution_count": 37,
   "metadata": {},
   "outputs": [
    {
     "data": {
      "text/plain": [
       "[[0, 0, 320, 80],\n",
       " [154, 29, 1, 3],\n",
       " [186, 29, 28, 24],\n",
       " [129, 31, 25, 24],\n",
       " [163, 31, 21, 24],\n",
       " [155, 34, 6, 24],\n",
       " [117, 36, 10, 19]]"
      ]
     },
     "execution_count": 37,
     "metadata": {},
     "output_type": "execute_result"
    }
   ],
   "source": [
    "connected_pos"
   ]
  },
  {
   "cell_type": "code",
   "execution_count": 38,
   "metadata": {},
   "outputs": [
    {
     "data": {
      "text/plain": [
       "[25600, 3, 672, 600, 504, 144, 190]"
      ]
     },
     "execution_count": 38,
     "metadata": {},
     "output_type": "execute_result"
    }
   ],
   "source": [
    "connected_region_area"
   ]
  },
  {
   "cell_type": "code",
   "execution_count": 39,
   "metadata": {},
   "outputs": [],
   "source": [
    "for  x,y,w,h in connected_pos:\n",
    "    output= img.copy() \n",
    "    test_out = cv2.rectangle(output, (x, y), (x + w, y + h), (0, 255, 0), 2)\t\n",
    "    show(test_out)"
   ]
  },
  {
   "cell_type": "code",
   "execution_count": 40,
   "metadata": {},
   "outputs": [
    {
     "name": "stdout",
     "output_type": "stream",
     "text": [
      "7\n"
     ]
    },
    {
     "data": {
      "text/plain": [
       "[4, 5, 6]"
      ]
     },
     "execution_count": 40,
     "metadata": {},
     "output_type": "execute_result"
    }
   ],
   "source": [
    "selected_region = []\n",
    "print(len(connected_region_area))\n",
    "for i in range(len(connected_region_area)):\n",
    "    if connected_region_area[i] > 100 and connected_region_area[i] < 600:\n",
    "        selected_region.append(i)\n",
    "selected_region"
   ]
  },
  {
   "cell_type": "code",
   "execution_count": 41,
   "metadata": {},
   "outputs": [],
   "source": [
    "selected_connected_roi  = [connected_pos[i] for i in selected_region]"
   ]
  },
  {
   "cell_type": "code",
   "execution_count": 42,
   "metadata": {},
   "outputs": [
    {
     "data": {
      "text/plain": [
       "[[163, 31, 21, 24], [155, 34, 6, 24], [117, 36, 10, 19]]"
      ]
     },
     "execution_count": 42,
     "metadata": {},
     "output_type": "execute_result"
    }
   ],
   "source": [
    "selected_connected_roi"
   ]
  },
  {
   "cell_type": "code",
   "execution_count": 43,
   "metadata": {},
   "outputs": [],
   "source": [
    "sorted_roi = sorted(selected_connected_roi, key=lambda x: x[0])"
   ]
  },
  {
   "cell_type": "code",
   "execution_count": 44,
   "metadata": {},
   "outputs": [
    {
     "data": {
      "text/plain": [
       "[[117, 36, 10, 19], [155, 34, 6, 24], [163, 31, 21, 24]]"
      ]
     },
     "execution_count": 44,
     "metadata": {},
     "output_type": "execute_result"
    }
   ],
   "source": [
    "sorted_roi"
   ]
  },
  {
   "cell_type": "code",
   "execution_count": 45,
   "metadata": {},
   "outputs": [],
   "source": [
    "output = img.copy() \n",
    "for i in sorted_roi:\n",
    "    (x,y,w,h) = i\n",
    "    test_out = cv2.rectangle(output, (x, y), (x + w, y + h), (0, 255, 0), 2)\n",
    "    show(test_out)"
   ]
  },
  {
   "cell_type": "code",
   "execution_count": 16,
   "metadata": {},
   "outputs": [],
   "source": [
    "saved_part = []\n",
    "pad = 3\n",
    "for i in sorted_roi:\n",
    "    (x,y,w,h) = i\n",
    "    saved_part.append(img_filled[y-pad:y+h+pad,x-pad:x+w+pad])"
   ]
  },
  {
   "cell_type": "code",
   "execution_count": 18,
   "metadata": {},
   "outputs": [],
   "source": [
    "for i in saved_part:\n",
    "    show(i)"
   ]
  },
  {
   "cell_type": "code",
   "execution_count": null,
   "metadata": {},
   "outputs": [],
   "source": []
  }
 ],
 "metadata": {
  "kernelspec": {
   "display_name": "base",
   "language": "python",
   "name": "python3"
  },
  "language_info": {
   "codemirror_mode": {
    "name": "ipython",
    "version": 3
   },
   "file_extension": ".py",
   "mimetype": "text/x-python",
   "name": "python",
   "nbconvert_exporter": "python",
   "pygments_lexer": "ipython3",
   "version": "3.12.4"
  }
 },
 "nbformat": 4,
 "nbformat_minor": 2
}
