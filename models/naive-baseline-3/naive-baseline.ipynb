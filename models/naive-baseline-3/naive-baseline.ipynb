{
 "cells": [
  {
   "cell_type": "code",
   "execution_count": 1,
   "metadata": {},
   "outputs": [],
   "source": [
    "import numpy as np\n",
    "import tensorflow as tf\n",
    "from tensorflow.keras.models import Sequential\n",
    "from tensorflow.keras.layers import Conv2D, MaxPooling2D, Flatten, Dense, Dropout\n",
    "from tensorflow.keras.preprocessing import image"
   ]
  },
  {
   "cell_type": "code",
   "execution_count": 2,
   "metadata": {},
   "outputs": [
    {
     "name": "stdout",
     "output_type": "stream",
     "text": [
      "Found 12010 images belonging to 36 classes.\n",
      "376/376 [==============================] - 7s 17ms/step - loss: 0.9499 - accuracy: 0.7354\n",
      "Test Accuracy: 73.54%\n"
     ]
    }
   ],
   "source": [
    "folder_path = \"../../dataset/\" #change this to your dataset folder\n",
    "train_chars_path = folder_path + \"train_chars/\"\n",
    "test_chars_path = folder_path + \"test_chars/\"\n",
    "eval_chars_path = folder_path + \"eval/\"\n",
    "\n",
    "IMG_SIZE = (64, 64)\n",
    "batch_size = 32\n",
    "\n",
    "model = tf.keras.models.load_model('./naive-baseline-3.keras')\n",
    "\n",
    "test_data = tf.keras.preprocessing.image.ImageDataGenerator(\n",
    "    rescale=1./255)\n",
    "\n",
    "test_generator = test_data.flow_from_directory(\n",
    "    test_chars_path,\n",
    "    target_size=IMG_SIZE,\n",
    "    batch_size=batch_size,\n",
    "    color_mode='grayscale',\n",
    "    class_mode='categorical'\n",
    ")\n",
    "\n",
    "test_loss, test_accuracy = model.evaluate(test_generator)\n",
    "print(f\"Test Accuracy: {test_accuracy * 100:.2f}%\")"
   ]
  },
  {
   "cell_type": "code",
   "execution_count": 4,
   "metadata": {},
   "outputs": [
    {
     "name": "stdout",
     "output_type": "stream",
     "text": [
      "1/1 [==============================] - 0s 15ms/step\n",
      "Predicted class label: 0, vs Actual label: 0\n",
      "1/1 [==============================] - 0s 15ms/step\n",
      "Predicted class label: 0, vs Actual label: 0\n",
      "1/1 [==============================] - 0s 14ms/step\n",
      "Predicted class label: 0, vs Actual label: 0\n",
      "1/1 [==============================] - 0s 13ms/step\n",
      "Predicted class label: i, vs Actual label: 1\n",
      "1/1 [==============================] - 0s 15ms/step\n",
      "Predicted class label: 7, vs Actual label: 1\n",
      "1/1 [==============================] - 0s 17ms/step\n",
      "Predicted class label: 1, vs Actual label: 1\n",
      "1/1 [==============================] - 0s 14ms/step\n",
      "Predicted class label: k, vs Actual label: 1\n",
      "1/1 [==============================] - 0s 14ms/step\n",
      "Predicted class label: d, vs Actual label: d\n",
      "1/1 [==============================] - 0s 14ms/step\n",
      "Predicted class label: d, vs Actual label: d\n",
      "1/1 [==============================] - 0s 14ms/step\n",
      "Predicted class label: 0, vs Actual label: d\n",
      "1/1 [==============================] - 0s 15ms/step\n",
      "Predicted class label: k, vs Actual label: k\n",
      "1/1 [==============================] - 0s 14ms/step\n",
      "Predicted class label: k, vs Actual label: k\n",
      "1/1 [==============================] - 0s 13ms/step\n",
      "Predicted class label: m, vs Actual label: m\n",
      "1/1 [==============================] - 0s 13ms/step\n",
      "Predicted class label: m, vs Actual label: m\n",
      "1/1 [==============================] - 0s 16ms/step\n",
      "Predicted class label: m, vs Actual label: m\n",
      "1/1 [==============================] - 0s 14ms/step\n",
      "Predicted class label: m, vs Actual label: m\n",
      "1/1 [==============================] - 0s 14ms/step\n",
      "Predicted class label: z, vs Actual label: z\n",
      "1/1 [==============================] - 0s 14ms/step\n",
      "Predicted class label: z, vs Actual label: z\n"
     ]
    }
   ],
   "source": [
    "import os\n",
    "\n",
    "class_labels = {\n",
    "    0: \"0\",\n",
    "    1: \"1\",\n",
    "    2: \"2\",\n",
    "    3: \"3\",\n",
    "    4: \"4\",\n",
    "    5: \"5\",\n",
    "    6: \"6\",\n",
    "    7: \"7\",\n",
    "    8: \"8\",\n",
    "    9: \"9\",\n",
    "    10:\"a\",\n",
    "    11:\"b\",\n",
    "    12:\"c\",\n",
    "    13:\"d\",\n",
    "    14:\"e\",\n",
    "    15:\"f\",\n",
    "    16:\"g\",\n",
    "    17:\"h\",\n",
    "    18:\"i\",\n",
    "    19:\"j\",\n",
    "    20:\"k\",\n",
    "    21:\"l\",\n",
    "    22:\"m\",\n",
    "    23:\"n\",\n",
    "    24:\"o\",\n",
    "    25:\"p\",\n",
    "    26:\"q\",\n",
    "    27:\"r\",\n",
    "    28:\"s\",\n",
    "    29:\"t\",\n",
    "    30:\"u\",\n",
    "    31:\"v\",\n",
    "    32:\"w\",\n",
    "    33:\"x\",\n",
    "    34:\"y\",\n",
    "    35:\"z\"\n",
    "}\n",
    "\n",
    "data_files = os.listdir(eval_chars_path)\n",
    "    \n",
    "for filename in data_files:\n",
    "    img_path = os.path.join(eval_chars_path, filename)\n",
    "    label = filename.split('_')[0]\n",
    "    img = image.load_img(img_path, target_size=IMG_SIZE, color_mode='grayscale')\n",
    "    img = image.img_to_array(img) / 255.0\n",
    "    img = np.expand_dims(img, axis=0)\n",
    "    classes = model.predict(img)\n",
    "    predicted_class = np.argmax(classes)\n",
    "    predicted_label = class_labels[predicted_class]\n",
    "\n",
    "    print(f'Predicted class label: {predicted_label}, vs Actual label: {label}')\n"
   ]
  }
 ],
 "metadata": {
  "kernelspec": {
   "display_name": "cs4243",
   "language": "python",
   "name": "python3"
  },
  "language_info": {
   "codemirror_mode": {
    "name": "ipython",
    "version": 3
   },
   "file_extension": ".py",
   "mimetype": "text/x-python",
   "name": "python",
   "nbconvert_exporter": "python",
   "pygments_lexer": "ipython3",
   "version": "3.9.18"
  }
 },
 "nbformat": 4,
 "nbformat_minor": 2
}
